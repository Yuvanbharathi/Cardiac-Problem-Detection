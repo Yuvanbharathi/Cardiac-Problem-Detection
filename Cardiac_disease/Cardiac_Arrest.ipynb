{
  "nbformat": 4,
  "nbformat_minor": 5,
  "metadata": {
    "kernelspec": {
      "display_name": "Python 3 (ipykernel)",
      "language": "python",
      "name": "python3"
    },
    "language_info": {
      "codemirror_mode": {
        "name": "ipython",
        "version": 3
      },
      "file_extension": ".py",
      "mimetype": "text/x-python",
      "name": "python",
      "nbconvert_exporter": "python",
      "pygments_lexer": "ipython3",
      "version": "3.9.7"
    },
    "colab": {
      "name": "Cardiac_Arrest.ipynb",
      "provenance": [],
      "collapsed_sections": []
    }
  },
  "cells": [
    {
      "cell_type": "markdown",
      "metadata": {
        "id": "gwPsNm8redWR"
      },
      "source": [
        "Name: Yuvan Bharathi\n",
        "\n",
        "Subject: Neural Networks and Neuroinformatics\n",
        "\n",
        "Project Title: Cardiac_Arrest_Problem_Detection"
      ],
      "id": "gwPsNm8redWR"
    },
    {
      "cell_type": "markdown",
      "metadata": {
        "id": "fnabd7B6QIfO"
      },
      "source": [
        "Contents:\n",
        "  "
      ],
      "id": "fnabd7B6QIfO"
    },
    {
      "cell_type": "markdown",
      "metadata": {
        "id": "2nilkF8pezxv"
      },
      "source": [
        "## 1. **Importing Essential Libraries**"
      ],
      "id": "2nilkF8pezxv"
    },
    {
      "cell_type": "code",
      "metadata": {
        "id": "c7bd5c58"
      },
      "source": [
        "import pandas as pd\n",
        "import numpy as np\n",
        "import matplotlib.pyplot as plt\n",
        "from matplotlib import rcParams\n",
        "from matplotlib.cm import rainbow\n",
        "%matplotlib inline\n",
        "import seaborn as sns\n",
        "\n"
      ],
      "id": "c7bd5c58",
      "execution_count": 90,
      "outputs": []
    },
    {
      "cell_type": "markdown",
      "metadata": {
        "id": "kq6KBMomfo30"
      },
      "source": [
        "# **2. Importing our dataset**"
      ],
      "id": "kq6KBMomfo30"
    },
    {
      "cell_type": "code",
      "metadata": {
        "id": "07c02458"
      },
      "source": [
        "dp = pd.read_csv('heart_disease_data.csv')"
      ],
      "id": "07c02458",
      "execution_count": 91,
      "outputs": []
    },
    {
      "cell_type": "markdown",
      "metadata": {
        "id": "PlM8Tgpyf3Au"
      },
      "source": [
        "# **3. Data Exploration**"
      ],
      "id": "PlM8Tgpyf3Au"
    },
    {
      "cell_type": "code",
      "metadata": {
        "scrolled": true,
        "id": "8e92ea3c",
        "colab": {
          "base_uri": "https://localhost:8080/",
          "height": 224
        },
        "outputId": "89de8845-9fcc-44dd-ce1e-6f15df975cf7"
      },
      "source": [
        "dp.head()"
      ],
      "id": "8e92ea3c",
      "execution_count": 92,
      "outputs": [
        {
          "output_type": "execute_result",
          "data": {
            "text/html": [
              "<div>\n",
              "<style scoped>\n",
              "    .dataframe tbody tr th:only-of-type {\n",
              "        vertical-align: middle;\n",
              "    }\n",
              "\n",
              "    .dataframe tbody tr th {\n",
              "        vertical-align: top;\n",
              "    }\n",
              "\n",
              "    .dataframe thead th {\n",
              "        text-align: right;\n",
              "    }\n",
              "</style>\n",
              "<table border=\"1\" class=\"dataframe\">\n",
              "  <thead>\n",
              "    <tr style=\"text-align: right;\">\n",
              "      <th></th>\n",
              "      <th>age</th>\n",
              "      <th>sex</th>\n",
              "      <th>chest_pain_type</th>\n",
              "      <th>resting_blood_pressure</th>\n",
              "      <th>cholesterol</th>\n",
              "      <th>fasting_blood_sugar</th>\n",
              "      <th>rest_ecg</th>\n",
              "      <th>max_heart_rate_achieved</th>\n",
              "      <th>exercise_induced_angina</th>\n",
              "      <th>old_peak</th>\n",
              "      <th>st_slope</th>\n",
              "      <th>target</th>\n",
              "    </tr>\n",
              "  </thead>\n",
              "  <tbody>\n",
              "    <tr>\n",
              "      <th>0</th>\n",
              "      <td>40</td>\n",
              "      <td>1</td>\n",
              "      <td>2</td>\n",
              "      <td>140</td>\n",
              "      <td>289</td>\n",
              "      <td>0</td>\n",
              "      <td>0</td>\n",
              "      <td>172</td>\n",
              "      <td>0</td>\n",
              "      <td>0.0</td>\n",
              "      <td>1</td>\n",
              "      <td>0</td>\n",
              "    </tr>\n",
              "    <tr>\n",
              "      <th>1</th>\n",
              "      <td>49</td>\n",
              "      <td>0</td>\n",
              "      <td>3</td>\n",
              "      <td>160</td>\n",
              "      <td>180</td>\n",
              "      <td>0</td>\n",
              "      <td>0</td>\n",
              "      <td>156</td>\n",
              "      <td>0</td>\n",
              "      <td>1.0</td>\n",
              "      <td>2</td>\n",
              "      <td>1</td>\n",
              "    </tr>\n",
              "    <tr>\n",
              "      <th>2</th>\n",
              "      <td>37</td>\n",
              "      <td>1</td>\n",
              "      <td>2</td>\n",
              "      <td>130</td>\n",
              "      <td>283</td>\n",
              "      <td>0</td>\n",
              "      <td>1</td>\n",
              "      <td>98</td>\n",
              "      <td>0</td>\n",
              "      <td>0.0</td>\n",
              "      <td>1</td>\n",
              "      <td>0</td>\n",
              "    </tr>\n",
              "    <tr>\n",
              "      <th>3</th>\n",
              "      <td>48</td>\n",
              "      <td>0</td>\n",
              "      <td>4</td>\n",
              "      <td>138</td>\n",
              "      <td>214</td>\n",
              "      <td>0</td>\n",
              "      <td>0</td>\n",
              "      <td>108</td>\n",
              "      <td>1</td>\n",
              "      <td>1.5</td>\n",
              "      <td>2</td>\n",
              "      <td>1</td>\n",
              "    </tr>\n",
              "    <tr>\n",
              "      <th>4</th>\n",
              "      <td>54</td>\n",
              "      <td>1</td>\n",
              "      <td>3</td>\n",
              "      <td>150</td>\n",
              "      <td>195</td>\n",
              "      <td>0</td>\n",
              "      <td>0</td>\n",
              "      <td>122</td>\n",
              "      <td>0</td>\n",
              "      <td>0.0</td>\n",
              "      <td>1</td>\n",
              "      <td>0</td>\n",
              "    </tr>\n",
              "  </tbody>\n",
              "</table>\n",
              "</div>"
            ],
            "text/plain": [
              "   age  sex  chest_pain_type  ...  old_peak  st_slope  target\n",
              "0   40    1                2  ...       0.0         1       0\n",
              "1   49    0                3  ...       1.0         2       1\n",
              "2   37    1                2  ...       0.0         1       0\n",
              "3   48    0                4  ...       1.5         2       1\n",
              "4   54    1                3  ...       0.0         1       0\n",
              "\n",
              "[5 rows x 12 columns]"
            ]
          },
          "metadata": {},
          "execution_count": 92
        }
      ]
    },
    {
      "cell_type": "code",
      "metadata": {
        "scrolled": true,
        "id": "db20ef2d",
        "colab": {
          "base_uri": "https://localhost:8080/",
          "height": 224
        },
        "outputId": "d8f7be76-8594-4a18-c69f-3bca9900f879"
      },
      "source": [
        "dp.tail()"
      ],
      "id": "db20ef2d",
      "execution_count": 93,
      "outputs": [
        {
          "output_type": "execute_result",
          "data": {
            "text/html": [
              "<div>\n",
              "<style scoped>\n",
              "    .dataframe tbody tr th:only-of-type {\n",
              "        vertical-align: middle;\n",
              "    }\n",
              "\n",
              "    .dataframe tbody tr th {\n",
              "        vertical-align: top;\n",
              "    }\n",
              "\n",
              "    .dataframe thead th {\n",
              "        text-align: right;\n",
              "    }\n",
              "</style>\n",
              "<table border=\"1\" class=\"dataframe\">\n",
              "  <thead>\n",
              "    <tr style=\"text-align: right;\">\n",
              "      <th></th>\n",
              "      <th>age</th>\n",
              "      <th>sex</th>\n",
              "      <th>chest_pain_type</th>\n",
              "      <th>resting_blood_pressure</th>\n",
              "      <th>cholesterol</th>\n",
              "      <th>fasting_blood_sugar</th>\n",
              "      <th>rest_ecg</th>\n",
              "      <th>max_heart_rate_achieved</th>\n",
              "      <th>exercise_induced_angina</th>\n",
              "      <th>old_peak</th>\n",
              "      <th>st_slope</th>\n",
              "      <th>target</th>\n",
              "    </tr>\n",
              "  </thead>\n",
              "  <tbody>\n",
              "    <tr>\n",
              "      <th>1185</th>\n",
              "      <td>45</td>\n",
              "      <td>1</td>\n",
              "      <td>1</td>\n",
              "      <td>110</td>\n",
              "      <td>264</td>\n",
              "      <td>0</td>\n",
              "      <td>0</td>\n",
              "      <td>132</td>\n",
              "      <td>0</td>\n",
              "      <td>1.2</td>\n",
              "      <td>2</td>\n",
              "      <td>1</td>\n",
              "    </tr>\n",
              "    <tr>\n",
              "      <th>1186</th>\n",
              "      <td>68</td>\n",
              "      <td>1</td>\n",
              "      <td>4</td>\n",
              "      <td>144</td>\n",
              "      <td>193</td>\n",
              "      <td>1</td>\n",
              "      <td>0</td>\n",
              "      <td>141</td>\n",
              "      <td>0</td>\n",
              "      <td>3.4</td>\n",
              "      <td>2</td>\n",
              "      <td>1</td>\n",
              "    </tr>\n",
              "    <tr>\n",
              "      <th>1187</th>\n",
              "      <td>57</td>\n",
              "      <td>1</td>\n",
              "      <td>4</td>\n",
              "      <td>130</td>\n",
              "      <td>131</td>\n",
              "      <td>0</td>\n",
              "      <td>0</td>\n",
              "      <td>115</td>\n",
              "      <td>1</td>\n",
              "      <td>1.2</td>\n",
              "      <td>2</td>\n",
              "      <td>1</td>\n",
              "    </tr>\n",
              "    <tr>\n",
              "      <th>1188</th>\n",
              "      <td>57</td>\n",
              "      <td>0</td>\n",
              "      <td>2</td>\n",
              "      <td>130</td>\n",
              "      <td>236</td>\n",
              "      <td>0</td>\n",
              "      <td>2</td>\n",
              "      <td>174</td>\n",
              "      <td>0</td>\n",
              "      <td>0.0</td>\n",
              "      <td>2</td>\n",
              "      <td>1</td>\n",
              "    </tr>\n",
              "    <tr>\n",
              "      <th>1189</th>\n",
              "      <td>38</td>\n",
              "      <td>1</td>\n",
              "      <td>3</td>\n",
              "      <td>138</td>\n",
              "      <td>175</td>\n",
              "      <td>0</td>\n",
              "      <td>0</td>\n",
              "      <td>173</td>\n",
              "      <td>0</td>\n",
              "      <td>0.0</td>\n",
              "      <td>1</td>\n",
              "      <td>0</td>\n",
              "    </tr>\n",
              "  </tbody>\n",
              "</table>\n",
              "</div>"
            ],
            "text/plain": [
              "      age  sex  chest_pain_type  ...  old_peak  st_slope  target\n",
              "1185   45    1                1  ...       1.2         2       1\n",
              "1186   68    1                4  ...       3.4         2       1\n",
              "1187   57    1                4  ...       1.2         2       1\n",
              "1188   57    0                2  ...       0.0         2       1\n",
              "1189   38    1                3  ...       0.0         1       0\n",
              "\n",
              "[5 rows x 12 columns]"
            ]
          },
          "metadata": {},
          "execution_count": 93
        }
      ]
    },
    {
      "cell_type": "code",
      "metadata": {
        "id": "6ciNi4MPPOhi"
      },
      "source": [
        "dp.columns = ['age', 'sex', 'chest_pain_type', 'resting_blood_pressure', 'cholesterol', 'fasting_blood_sugar', 'rest_ecg', 'max_heart_rate_achieved',\n",
        "       'exercise_induced_angina', 'old_peak', 'st_slope','target']"
      ],
      "id": "6ciNi4MPPOhi",
      "execution_count": 94,
      "outputs": []
    },
    {
      "cell_type": "code",
      "metadata": {
        "id": "217f7b2d",
        "colab": {
          "base_uri": "https://localhost:8080/"
        },
        "outputId": "730a20f5-e446-4610-dd78-7fcb288e8613"
      },
      "source": [
        "dp['chest_pain_type'].value_counts()"
      ],
      "id": "217f7b2d",
      "execution_count": 95,
      "outputs": [
        {
          "output_type": "execute_result",
          "data": {
            "text/plain": [
              "4    625\n",
              "3    283\n",
              "2    216\n",
              "1     66\n",
              "Name: chest_pain_type, dtype: int64"
            ]
          },
          "metadata": {},
          "execution_count": 95
        }
      ]
    },
    {
      "cell_type": "code",
      "metadata": {
        "id": "be9505c6",
        "colab": {
          "base_uri": "https://localhost:8080/"
        },
        "outputId": "253dec88-dfaf-4264-e44e-4bf12488c555"
      },
      "source": [
        "dp['rest_ecg'].value_counts()"
      ],
      "id": "be9505c6",
      "execution_count": 96,
      "outputs": [
        {
          "output_type": "execute_result",
          "data": {
            "text/plain": [
              "0    684\n",
              "2    325\n",
              "1    181\n",
              "Name: rest_ecg, dtype: int64"
            ]
          },
          "metadata": {},
          "execution_count": 96
        }
      ]
    },
    {
      "cell_type": "code",
      "metadata": {
        "id": "722522db",
        "colab": {
          "base_uri": "https://localhost:8080/"
        },
        "outputId": "50aba656-8dfc-4188-b1f0-92ac6c8d1250"
      },
      "source": [
        "dp['st_slope'].value_counts()"
      ],
      "id": "722522db",
      "execution_count": 97,
      "outputs": [
        {
          "output_type": "execute_result",
          "data": {
            "text/plain": [
              "2    582\n",
              "1    526\n",
              "3     81\n",
              "0      1\n",
              "Name: st_slope, dtype: int64"
            ]
          },
          "metadata": {},
          "execution_count": 97
        }
      ]
    },
    {
      "cell_type": "markdown",
      "metadata": {
        "id": "sx0yI1ZCf-t7"
      },
      "source": [
        "# **4. Clearing data**"
      ],
      "id": "sx0yI1ZCf-t7"
    },
    {
      "cell_type": "code",
      "metadata": {
        "id": "fa58ca2e"
      },
      "source": [
        "dp.columns = ['age', 'sex', 'chest_pain_type', 'resting_blood_pressure', 'cholesterol', 'fasting_blood_sugar', 'rest_ecg', 'max_heart_rate_achieved',\n",
        "       'exercise_induced_angina', 'old_peak', 'st_slope','target']"
      ],
      "id": "fa58ca2e",
      "execution_count": 98,
      "outputs": []
    },
    {
      "cell_type": "code",
      "metadata": {
        "id": "d05d4899"
      },
      "source": [
        "dp\n",
        "dp.drop(dp[dp.st_slope==0].index, inplace=True)"
      ],
      "id": "d05d4899",
      "execution_count": 99,
      "outputs": []
    },
    {
      "cell_type": "code",
      "metadata": {
        "id": "8433663b",
        "colab": {
          "base_uri": "https://localhost:8080/"
        },
        "outputId": "f50edb7c-0256-4f73-9e05-53cc70ae9a68"
      },
      "source": [
        "dp['st_slope'].value_counts()"
      ],
      "id": "8433663b",
      "execution_count": 100,
      "outputs": [
        {
          "output_type": "execute_result",
          "data": {
            "text/plain": [
              "2    582\n",
              "1    526\n",
              "3     81\n",
              "Name: st_slope, dtype: int64"
            ]
          },
          "metadata": {},
          "execution_count": 100
        }
      ]
    },
    {
      "cell_type": "code",
      "metadata": {
        "id": "4c530a0b",
        "colab": {
          "base_uri": "https://localhost:8080/",
          "height": 439
        },
        "outputId": "c620fd11-7b84-47d2-9832-497e369793b9"
      },
      "source": [
        "dp.isna()"
      ],
      "id": "4c530a0b",
      "execution_count": 101,
      "outputs": [
        {
          "output_type": "execute_result",
          "data": {
            "text/html": [
              "<div>\n",
              "<style scoped>\n",
              "    .dataframe tbody tr th:only-of-type {\n",
              "        vertical-align: middle;\n",
              "    }\n",
              "\n",
              "    .dataframe tbody tr th {\n",
              "        vertical-align: top;\n",
              "    }\n",
              "\n",
              "    .dataframe thead th {\n",
              "        text-align: right;\n",
              "    }\n",
              "</style>\n",
              "<table border=\"1\" class=\"dataframe\">\n",
              "  <thead>\n",
              "    <tr style=\"text-align: right;\">\n",
              "      <th></th>\n",
              "      <th>age</th>\n",
              "      <th>sex</th>\n",
              "      <th>chest_pain_type</th>\n",
              "      <th>resting_blood_pressure</th>\n",
              "      <th>cholesterol</th>\n",
              "      <th>fasting_blood_sugar</th>\n",
              "      <th>rest_ecg</th>\n",
              "      <th>max_heart_rate_achieved</th>\n",
              "      <th>exercise_induced_angina</th>\n",
              "      <th>old_peak</th>\n",
              "      <th>st_slope</th>\n",
              "      <th>target</th>\n",
              "    </tr>\n",
              "  </thead>\n",
              "  <tbody>\n",
              "    <tr>\n",
              "      <th>0</th>\n",
              "      <td>False</td>\n",
              "      <td>False</td>\n",
              "      <td>False</td>\n",
              "      <td>False</td>\n",
              "      <td>False</td>\n",
              "      <td>False</td>\n",
              "      <td>False</td>\n",
              "      <td>False</td>\n",
              "      <td>False</td>\n",
              "      <td>False</td>\n",
              "      <td>False</td>\n",
              "      <td>False</td>\n",
              "    </tr>\n",
              "    <tr>\n",
              "      <th>1</th>\n",
              "      <td>False</td>\n",
              "      <td>False</td>\n",
              "      <td>False</td>\n",
              "      <td>False</td>\n",
              "      <td>False</td>\n",
              "      <td>False</td>\n",
              "      <td>False</td>\n",
              "      <td>False</td>\n",
              "      <td>False</td>\n",
              "      <td>False</td>\n",
              "      <td>False</td>\n",
              "      <td>False</td>\n",
              "    </tr>\n",
              "    <tr>\n",
              "      <th>2</th>\n",
              "      <td>False</td>\n",
              "      <td>False</td>\n",
              "      <td>False</td>\n",
              "      <td>False</td>\n",
              "      <td>False</td>\n",
              "      <td>False</td>\n",
              "      <td>False</td>\n",
              "      <td>False</td>\n",
              "      <td>False</td>\n",
              "      <td>False</td>\n",
              "      <td>False</td>\n",
              "      <td>False</td>\n",
              "    </tr>\n",
              "    <tr>\n",
              "      <th>3</th>\n",
              "      <td>False</td>\n",
              "      <td>False</td>\n",
              "      <td>False</td>\n",
              "      <td>False</td>\n",
              "      <td>False</td>\n",
              "      <td>False</td>\n",
              "      <td>False</td>\n",
              "      <td>False</td>\n",
              "      <td>False</td>\n",
              "      <td>False</td>\n",
              "      <td>False</td>\n",
              "      <td>False</td>\n",
              "    </tr>\n",
              "    <tr>\n",
              "      <th>4</th>\n",
              "      <td>False</td>\n",
              "      <td>False</td>\n",
              "      <td>False</td>\n",
              "      <td>False</td>\n",
              "      <td>False</td>\n",
              "      <td>False</td>\n",
              "      <td>False</td>\n",
              "      <td>False</td>\n",
              "      <td>False</td>\n",
              "      <td>False</td>\n",
              "      <td>False</td>\n",
              "      <td>False</td>\n",
              "    </tr>\n",
              "    <tr>\n",
              "      <th>...</th>\n",
              "      <td>...</td>\n",
              "      <td>...</td>\n",
              "      <td>...</td>\n",
              "      <td>...</td>\n",
              "      <td>...</td>\n",
              "      <td>...</td>\n",
              "      <td>...</td>\n",
              "      <td>...</td>\n",
              "      <td>...</td>\n",
              "      <td>...</td>\n",
              "      <td>...</td>\n",
              "      <td>...</td>\n",
              "    </tr>\n",
              "    <tr>\n",
              "      <th>1185</th>\n",
              "      <td>False</td>\n",
              "      <td>False</td>\n",
              "      <td>False</td>\n",
              "      <td>False</td>\n",
              "      <td>False</td>\n",
              "      <td>False</td>\n",
              "      <td>False</td>\n",
              "      <td>False</td>\n",
              "      <td>False</td>\n",
              "      <td>False</td>\n",
              "      <td>False</td>\n",
              "      <td>False</td>\n",
              "    </tr>\n",
              "    <tr>\n",
              "      <th>1186</th>\n",
              "      <td>False</td>\n",
              "      <td>False</td>\n",
              "      <td>False</td>\n",
              "      <td>False</td>\n",
              "      <td>False</td>\n",
              "      <td>False</td>\n",
              "      <td>False</td>\n",
              "      <td>False</td>\n",
              "      <td>False</td>\n",
              "      <td>False</td>\n",
              "      <td>False</td>\n",
              "      <td>False</td>\n",
              "    </tr>\n",
              "    <tr>\n",
              "      <th>1187</th>\n",
              "      <td>False</td>\n",
              "      <td>False</td>\n",
              "      <td>False</td>\n",
              "      <td>False</td>\n",
              "      <td>False</td>\n",
              "      <td>False</td>\n",
              "      <td>False</td>\n",
              "      <td>False</td>\n",
              "      <td>False</td>\n",
              "      <td>False</td>\n",
              "      <td>False</td>\n",
              "      <td>False</td>\n",
              "    </tr>\n",
              "    <tr>\n",
              "      <th>1188</th>\n",
              "      <td>False</td>\n",
              "      <td>False</td>\n",
              "      <td>False</td>\n",
              "      <td>False</td>\n",
              "      <td>False</td>\n",
              "      <td>False</td>\n",
              "      <td>False</td>\n",
              "      <td>False</td>\n",
              "      <td>False</td>\n",
              "      <td>False</td>\n",
              "      <td>False</td>\n",
              "      <td>False</td>\n",
              "    </tr>\n",
              "    <tr>\n",
              "      <th>1189</th>\n",
              "      <td>False</td>\n",
              "      <td>False</td>\n",
              "      <td>False</td>\n",
              "      <td>False</td>\n",
              "      <td>False</td>\n",
              "      <td>False</td>\n",
              "      <td>False</td>\n",
              "      <td>False</td>\n",
              "      <td>False</td>\n",
              "      <td>False</td>\n",
              "      <td>False</td>\n",
              "      <td>False</td>\n",
              "    </tr>\n",
              "  </tbody>\n",
              "</table>\n",
              "<p>1189 rows × 12 columns</p>\n",
              "</div>"
            ],
            "text/plain": [
              "        age    sex  chest_pain_type  ...  old_peak  st_slope  target\n",
              "0     False  False            False  ...     False     False   False\n",
              "1     False  False            False  ...     False     False   False\n",
              "2     False  False            False  ...     False     False   False\n",
              "3     False  False            False  ...     False     False   False\n",
              "4     False  False            False  ...     False     False   False\n",
              "...     ...    ...              ...  ...       ...       ...     ...\n",
              "1185  False  False            False  ...     False     False   False\n",
              "1186  False  False            False  ...     False     False   False\n",
              "1187  False  False            False  ...     False     False   False\n",
              "1188  False  False            False  ...     False     False   False\n",
              "1189  False  False            False  ...     False     False   False\n",
              "\n",
              "[1189 rows x 12 columns]"
            ]
          },
          "metadata": {},
          "execution_count": 101
        }
      ]
    },
    {
      "cell_type": "code",
      "metadata": {
        "id": "dc18f68e",
        "colab": {
          "base_uri": "https://localhost:8080/"
        },
        "outputId": "51543c2a-85ab-41f9-98d1-e9f857c21e7e"
      },
      "source": [
        "dp.isna().sum()"
      ],
      "id": "dc18f68e",
      "execution_count": 102,
      "outputs": [
        {
          "output_type": "execute_result",
          "data": {
            "text/plain": [
              "age                        0\n",
              "sex                        0\n",
              "chest_pain_type            0\n",
              "resting_blood_pressure     0\n",
              "cholesterol                0\n",
              "fasting_blood_sugar        0\n",
              "rest_ecg                   0\n",
              "max_heart_rate_achieved    0\n",
              "exercise_induced_angina    0\n",
              "old_peak                   0\n",
              "st_slope                   0\n",
              "target                     0\n",
              "dtype: int64"
            ]
          },
          "metadata": {},
          "execution_count": 102
        }
      ]
    },
    {
      "cell_type": "code",
      "metadata": {
        "id": "6846dda2",
        "colab": {
          "base_uri": "https://localhost:8080/",
          "height": 439
        },
        "outputId": "c4faf088-3b68-4810-c591-1c298002718f"
      },
      "source": [
        "dp.dropna()"
      ],
      "id": "6846dda2",
      "execution_count": 103,
      "outputs": [
        {
          "output_type": "execute_result",
          "data": {
            "text/html": [
              "<div>\n",
              "<style scoped>\n",
              "    .dataframe tbody tr th:only-of-type {\n",
              "        vertical-align: middle;\n",
              "    }\n",
              "\n",
              "    .dataframe tbody tr th {\n",
              "        vertical-align: top;\n",
              "    }\n",
              "\n",
              "    .dataframe thead th {\n",
              "        text-align: right;\n",
              "    }\n",
              "</style>\n",
              "<table border=\"1\" class=\"dataframe\">\n",
              "  <thead>\n",
              "    <tr style=\"text-align: right;\">\n",
              "      <th></th>\n",
              "      <th>age</th>\n",
              "      <th>sex</th>\n",
              "      <th>chest_pain_type</th>\n",
              "      <th>resting_blood_pressure</th>\n",
              "      <th>cholesterol</th>\n",
              "      <th>fasting_blood_sugar</th>\n",
              "      <th>rest_ecg</th>\n",
              "      <th>max_heart_rate_achieved</th>\n",
              "      <th>exercise_induced_angina</th>\n",
              "      <th>old_peak</th>\n",
              "      <th>st_slope</th>\n",
              "      <th>target</th>\n",
              "    </tr>\n",
              "  </thead>\n",
              "  <tbody>\n",
              "    <tr>\n",
              "      <th>0</th>\n",
              "      <td>40</td>\n",
              "      <td>1</td>\n",
              "      <td>2</td>\n",
              "      <td>140</td>\n",
              "      <td>289</td>\n",
              "      <td>0</td>\n",
              "      <td>0</td>\n",
              "      <td>172</td>\n",
              "      <td>0</td>\n",
              "      <td>0.0</td>\n",
              "      <td>1</td>\n",
              "      <td>0</td>\n",
              "    </tr>\n",
              "    <tr>\n",
              "      <th>1</th>\n",
              "      <td>49</td>\n",
              "      <td>0</td>\n",
              "      <td>3</td>\n",
              "      <td>160</td>\n",
              "      <td>180</td>\n",
              "      <td>0</td>\n",
              "      <td>0</td>\n",
              "      <td>156</td>\n",
              "      <td>0</td>\n",
              "      <td>1.0</td>\n",
              "      <td>2</td>\n",
              "      <td>1</td>\n",
              "    </tr>\n",
              "    <tr>\n",
              "      <th>2</th>\n",
              "      <td>37</td>\n",
              "      <td>1</td>\n",
              "      <td>2</td>\n",
              "      <td>130</td>\n",
              "      <td>283</td>\n",
              "      <td>0</td>\n",
              "      <td>1</td>\n",
              "      <td>98</td>\n",
              "      <td>0</td>\n",
              "      <td>0.0</td>\n",
              "      <td>1</td>\n",
              "      <td>0</td>\n",
              "    </tr>\n",
              "    <tr>\n",
              "      <th>3</th>\n",
              "      <td>48</td>\n",
              "      <td>0</td>\n",
              "      <td>4</td>\n",
              "      <td>138</td>\n",
              "      <td>214</td>\n",
              "      <td>0</td>\n",
              "      <td>0</td>\n",
              "      <td>108</td>\n",
              "      <td>1</td>\n",
              "      <td>1.5</td>\n",
              "      <td>2</td>\n",
              "      <td>1</td>\n",
              "    </tr>\n",
              "    <tr>\n",
              "      <th>4</th>\n",
              "      <td>54</td>\n",
              "      <td>1</td>\n",
              "      <td>3</td>\n",
              "      <td>150</td>\n",
              "      <td>195</td>\n",
              "      <td>0</td>\n",
              "      <td>0</td>\n",
              "      <td>122</td>\n",
              "      <td>0</td>\n",
              "      <td>0.0</td>\n",
              "      <td>1</td>\n",
              "      <td>0</td>\n",
              "    </tr>\n",
              "    <tr>\n",
              "      <th>...</th>\n",
              "      <td>...</td>\n",
              "      <td>...</td>\n",
              "      <td>...</td>\n",
              "      <td>...</td>\n",
              "      <td>...</td>\n",
              "      <td>...</td>\n",
              "      <td>...</td>\n",
              "      <td>...</td>\n",
              "      <td>...</td>\n",
              "      <td>...</td>\n",
              "      <td>...</td>\n",
              "      <td>...</td>\n",
              "    </tr>\n",
              "    <tr>\n",
              "      <th>1185</th>\n",
              "      <td>45</td>\n",
              "      <td>1</td>\n",
              "      <td>1</td>\n",
              "      <td>110</td>\n",
              "      <td>264</td>\n",
              "      <td>0</td>\n",
              "      <td>0</td>\n",
              "      <td>132</td>\n",
              "      <td>0</td>\n",
              "      <td>1.2</td>\n",
              "      <td>2</td>\n",
              "      <td>1</td>\n",
              "    </tr>\n",
              "    <tr>\n",
              "      <th>1186</th>\n",
              "      <td>68</td>\n",
              "      <td>1</td>\n",
              "      <td>4</td>\n",
              "      <td>144</td>\n",
              "      <td>193</td>\n",
              "      <td>1</td>\n",
              "      <td>0</td>\n",
              "      <td>141</td>\n",
              "      <td>0</td>\n",
              "      <td>3.4</td>\n",
              "      <td>2</td>\n",
              "      <td>1</td>\n",
              "    </tr>\n",
              "    <tr>\n",
              "      <th>1187</th>\n",
              "      <td>57</td>\n",
              "      <td>1</td>\n",
              "      <td>4</td>\n",
              "      <td>130</td>\n",
              "      <td>131</td>\n",
              "      <td>0</td>\n",
              "      <td>0</td>\n",
              "      <td>115</td>\n",
              "      <td>1</td>\n",
              "      <td>1.2</td>\n",
              "      <td>2</td>\n",
              "      <td>1</td>\n",
              "    </tr>\n",
              "    <tr>\n",
              "      <th>1188</th>\n",
              "      <td>57</td>\n",
              "      <td>0</td>\n",
              "      <td>2</td>\n",
              "      <td>130</td>\n",
              "      <td>236</td>\n",
              "      <td>0</td>\n",
              "      <td>2</td>\n",
              "      <td>174</td>\n",
              "      <td>0</td>\n",
              "      <td>0.0</td>\n",
              "      <td>2</td>\n",
              "      <td>1</td>\n",
              "    </tr>\n",
              "    <tr>\n",
              "      <th>1189</th>\n",
              "      <td>38</td>\n",
              "      <td>1</td>\n",
              "      <td>3</td>\n",
              "      <td>138</td>\n",
              "      <td>175</td>\n",
              "      <td>0</td>\n",
              "      <td>0</td>\n",
              "      <td>173</td>\n",
              "      <td>0</td>\n",
              "      <td>0.0</td>\n",
              "      <td>1</td>\n",
              "      <td>0</td>\n",
              "    </tr>\n",
              "  </tbody>\n",
              "</table>\n",
              "<p>1189 rows × 12 columns</p>\n",
              "</div>"
            ],
            "text/plain": [
              "      age  sex  chest_pain_type  ...  old_peak  st_slope  target\n",
              "0      40    1                2  ...       0.0         1       0\n",
              "1      49    0                3  ...       1.0         2       1\n",
              "2      37    1                2  ...       0.0         1       0\n",
              "3      48    0                4  ...       1.5         2       1\n",
              "4      54    1                3  ...       0.0         1       0\n",
              "...   ...  ...              ...  ...       ...       ...     ...\n",
              "1185   45    1                1  ...       1.2         2       1\n",
              "1186   68    1                4  ...       3.4         2       1\n",
              "1187   57    1                4  ...       1.2         2       1\n",
              "1188   57    0                2  ...       0.0         2       1\n",
              "1189   38    1                3  ...       0.0         1       0\n",
              "\n",
              "[1189 rows x 12 columns]"
            ]
          },
          "metadata": {},
          "execution_count": 103
        }
      ]
    },
    {
      "cell_type": "markdown",
      "metadata": {
        "id": "O68BBxTigDze"
      },
      "source": [
        "# **5.Importing Required library algorithms**"
      ],
      "id": "O68BBxTigDze"
    },
    {
      "cell_type": "code",
      "metadata": {
        "id": "41753a89"
      },
      "source": [
        "from sklearn.model_selection import train_test_split\n",
        "from sklearn.preprocessing import StandardScaler\n",
        "from sklearn.neighbors import KNeighborsClassifier\n",
        "from sklearn.svm import SVC\n",
        "from sklearn.tree import DecisionTreeClassifier\n",
        "from sklearn.ensemble import RandomForestClassifier\n",
        "from sklearn.model_selection import cross_val_score\n",
        "from sklearn.linear_model import LogisticRegression\n",
        "from sklearn.metrics import accuracy_score"
      ],
      "id": "41753a89",
      "execution_count": 104,
      "outputs": []
    },
    {
      "cell_type": "markdown",
      "metadata": {
        "id": "fZPsmoRUgQ11"
      },
      "source": [
        "# **6.Analysing data**"
      ],
      "id": "fZPsmoRUgQ11"
    },
    {
      "cell_type": "code",
      "metadata": {
        "id": "5699f270",
        "colab": {
          "base_uri": "https://localhost:8080/",
          "height": 317
        },
        "outputId": "fe60762f-9996-42f6-db67-f44a3955ea48"
      },
      "source": [
        "dp.describe()"
      ],
      "id": "5699f270",
      "execution_count": 105,
      "outputs": [
        {
          "output_type": "execute_result",
          "data": {
            "text/html": [
              "<div>\n",
              "<style scoped>\n",
              "    .dataframe tbody tr th:only-of-type {\n",
              "        vertical-align: middle;\n",
              "    }\n",
              "\n",
              "    .dataframe tbody tr th {\n",
              "        vertical-align: top;\n",
              "    }\n",
              "\n",
              "    .dataframe thead th {\n",
              "        text-align: right;\n",
              "    }\n",
              "</style>\n",
              "<table border=\"1\" class=\"dataframe\">\n",
              "  <thead>\n",
              "    <tr style=\"text-align: right;\">\n",
              "      <th></th>\n",
              "      <th>age</th>\n",
              "      <th>sex</th>\n",
              "      <th>chest_pain_type</th>\n",
              "      <th>resting_blood_pressure</th>\n",
              "      <th>cholesterol</th>\n",
              "      <th>fasting_blood_sugar</th>\n",
              "      <th>rest_ecg</th>\n",
              "      <th>max_heart_rate_achieved</th>\n",
              "      <th>exercise_induced_angina</th>\n",
              "      <th>old_peak</th>\n",
              "      <th>st_slope</th>\n",
              "      <th>target</th>\n",
              "    </tr>\n",
              "  </thead>\n",
              "  <tbody>\n",
              "    <tr>\n",
              "      <th>count</th>\n",
              "      <td>1189.000000</td>\n",
              "      <td>1189.000000</td>\n",
              "      <td>1189.000000</td>\n",
              "      <td>1189.000000</td>\n",
              "      <td>1189.000000</td>\n",
              "      <td>1189.000000</td>\n",
              "      <td>1189.000000</td>\n",
              "      <td>1189.000000</td>\n",
              "      <td>1189.000000</td>\n",
              "      <td>1189.000000</td>\n",
              "      <td>1189.000000</td>\n",
              "      <td>1189.000000</td>\n",
              "    </tr>\n",
              "    <tr>\n",
              "      <th>mean</th>\n",
              "      <td>53.708158</td>\n",
              "      <td>0.763667</td>\n",
              "      <td>3.232969</td>\n",
              "      <td>132.138772</td>\n",
              "      <td>210.376787</td>\n",
              "      <td>0.212784</td>\n",
              "      <td>0.698907</td>\n",
              "      <td>139.739277</td>\n",
              "      <td>0.387721</td>\n",
              "      <td>0.923549</td>\n",
              "      <td>1.625736</td>\n",
              "      <td>0.528175</td>\n",
              "    </tr>\n",
              "    <tr>\n",
              "      <th>std</th>\n",
              "      <td>9.352961</td>\n",
              "      <td>0.425008</td>\n",
              "      <td>0.935850</td>\n",
              "      <td>18.369251</td>\n",
              "      <td>101.462185</td>\n",
              "      <td>0.409448</td>\n",
              "      <td>0.870489</td>\n",
              "      <td>25.527386</td>\n",
              "      <td>0.487435</td>\n",
              "      <td>1.086464</td>\n",
              "      <td>0.608893</td>\n",
              "      <td>0.499416</td>\n",
              "    </tr>\n",
              "    <tr>\n",
              "      <th>min</th>\n",
              "      <td>28.000000</td>\n",
              "      <td>0.000000</td>\n",
              "      <td>1.000000</td>\n",
              "      <td>0.000000</td>\n",
              "      <td>0.000000</td>\n",
              "      <td>0.000000</td>\n",
              "      <td>0.000000</td>\n",
              "      <td>60.000000</td>\n",
              "      <td>0.000000</td>\n",
              "      <td>-2.600000</td>\n",
              "      <td>1.000000</td>\n",
              "      <td>0.000000</td>\n",
              "    </tr>\n",
              "    <tr>\n",
              "      <th>25%</th>\n",
              "      <td>47.000000</td>\n",
              "      <td>1.000000</td>\n",
              "      <td>3.000000</td>\n",
              "      <td>120.000000</td>\n",
              "      <td>188.000000</td>\n",
              "      <td>0.000000</td>\n",
              "      <td>0.000000</td>\n",
              "      <td>121.000000</td>\n",
              "      <td>0.000000</td>\n",
              "      <td>0.000000</td>\n",
              "      <td>1.000000</td>\n",
              "      <td>0.000000</td>\n",
              "    </tr>\n",
              "    <tr>\n",
              "      <th>50%</th>\n",
              "      <td>54.000000</td>\n",
              "      <td>1.000000</td>\n",
              "      <td>4.000000</td>\n",
              "      <td>130.000000</td>\n",
              "      <td>229.000000</td>\n",
              "      <td>0.000000</td>\n",
              "      <td>0.000000</td>\n",
              "      <td>141.000000</td>\n",
              "      <td>0.000000</td>\n",
              "      <td>0.600000</td>\n",
              "      <td>2.000000</td>\n",
              "      <td>1.000000</td>\n",
              "    </tr>\n",
              "    <tr>\n",
              "      <th>75%</th>\n",
              "      <td>60.000000</td>\n",
              "      <td>1.000000</td>\n",
              "      <td>4.000000</td>\n",
              "      <td>140.000000</td>\n",
              "      <td>270.000000</td>\n",
              "      <td>0.000000</td>\n",
              "      <td>2.000000</td>\n",
              "      <td>160.000000</td>\n",
              "      <td>1.000000</td>\n",
              "      <td>1.600000</td>\n",
              "      <td>2.000000</td>\n",
              "      <td>1.000000</td>\n",
              "    </tr>\n",
              "    <tr>\n",
              "      <th>max</th>\n",
              "      <td>77.000000</td>\n",
              "      <td>1.000000</td>\n",
              "      <td>4.000000</td>\n",
              "      <td>200.000000</td>\n",
              "      <td>603.000000</td>\n",
              "      <td>1.000000</td>\n",
              "      <td>2.000000</td>\n",
              "      <td>202.000000</td>\n",
              "      <td>1.000000</td>\n",
              "      <td>6.200000</td>\n",
              "      <td>3.000000</td>\n",
              "      <td>1.000000</td>\n",
              "    </tr>\n",
              "  </tbody>\n",
              "</table>\n",
              "</div>"
            ],
            "text/plain": [
              "               age          sex  ...     st_slope       target\n",
              "count  1189.000000  1189.000000  ...  1189.000000  1189.000000\n",
              "mean     53.708158     0.763667  ...     1.625736     0.528175\n",
              "std       9.352961     0.425008  ...     0.608893     0.499416\n",
              "min      28.000000     0.000000  ...     1.000000     0.000000\n",
              "25%      47.000000     1.000000  ...     1.000000     0.000000\n",
              "50%      54.000000     1.000000  ...     2.000000     1.000000\n",
              "75%      60.000000     1.000000  ...     2.000000     1.000000\n",
              "max      77.000000     1.000000  ...     3.000000     1.000000\n",
              "\n",
              "[8 rows x 12 columns]"
            ]
          },
          "metadata": {},
          "execution_count": 105
        }
      ]
    },
    {
      "cell_type": "code",
      "metadata": {
        "scrolled": true,
        "id": "19ed3b7e",
        "colab": {
          "base_uri": "https://localhost:8080/",
          "height": 607
        },
        "outputId": "655cdaaf-782b-48e6-8681-718418c41c75"
      },
      "source": [
        "rcParams['figure.figsize'] = 10,10\n",
        "dp.hist();"
      ],
      "id": "19ed3b7e",
      "execution_count": 106,
      "outputs": [
        {
          "output_type": "display_data",
          "data": {
            "image/png": "[encoded data removed]",
            "text/plain": [
              "<Figure size 720x720 with 12 Axes>"
            ]
          },
          "metadata": {
            "needs_background": "light"
          }
        }
      ]
    },
    {
      "cell_type": "code",
      "metadata": {
        "id": "48426a44",
        "colab": {
          "base_uri": "https://localhost:8080/",
          "height": 621
        },
        "outputId": "848cca86-4774-4ee1-da4d-7cd97d064f4d"
      },
      "source": [
        "plt.bar(dp['target'].unique(), dp['target'].value_counts(), color = ['red', 'green'])\n",
        "plt.xticks([0, 1])\n",
        "plt.xlabel('Heart Disease')\n",
        "plt.ylabel('Number of Patients')\n",
        "plt.title('No of Patients with Heart Disease');"
      ],
      "id": "48426a44",
      "execution_count": 107,
      "outputs": [
        {
          "output_type": "display_data",
          "data": {
            "image/png": "[encoded data removed]",
            "text/plain": [
              "<Figure size 720x720 with 1 Axes>"
            ]
          },
          "metadata": {
            "needs_background": "light"
          }
        }
      ]
    },
    {
      "cell_type": "code",
      "metadata": {
        "id": "d4a8a8d9",
        "colab": {
          "base_uri": "https://localhost:8080/",
          "height": 1000
        },
        "outputId": "c7b44cc5-72b5-4e0f-b1b6-f88bdee9aaed"
      },
      "source": [
        "rcParams['figure.figsize'] = 20,20\n",
        "corrmat = dp.corr()\n",
        "Corrmat = corrmat.index\n",
        "plt.figure(figsize=(20,20))\n",
        "g=sns.heatmap(dp[Corrmat].corr(),annot=True,cmap=\"RdYlGn\");\n"
      ],
      "id": "d4a8a8d9",
      "execution_count": 108,
      "outputs": [
        {
          "output_type": "display_data",
          "data": {
            "image/png": "[encoded data removed]",
            "text/plain": [
              "<Figure size 1440x1440 with 2 Axes>"
            ]
          },
          "metadata": {
            "needs_background": "light"
          }
        }
      ]
    },
    {
      "cell_type": "markdown",
      "metadata": {
        "id": "qgla1voUMpsu"
      },
      "source": [
        "**Cleaning data and defining x and y**"
      ],
      "id": "qgla1voUMpsu"
    },
    {
      "cell_type": "code",
      "metadata": {
        "id": "80ccc74e"
      },
      "source": [
        "X = dp.drop(['target'], axis = 1)"
      ],
      "id": "80ccc74e",
      "execution_count": 109,
      "outputs": []
    },
    {
      "cell_type": "code",
      "metadata": {
        "id": "2fd33445"
      },
      "source": [
        "y = dp['target']\n"
      ],
      "id": "2fd33445",
      "execution_count": 110,
      "outputs": []
    },
    {
      "cell_type": "markdown",
      "metadata": {
        "id": "973RG5vfMzCD"
      },
      "source": [
        "**Plotting Comparing Data** "
      ],
      "id": "973RG5vfMzCD"
    },
    {
      "cell_type": "code",
      "metadata": {
        "id": "410c9b1c",
        "colab": {
          "base_uri": "https://localhost:8080/"
        },
        "outputId": "510401ee-5bd8-4cf3-9bd9-47b0739f88cb"
      },
      "source": [
        "dp.sex.value_counts()"
      ],
      "id": "410c9b1c",
      "execution_count": 111,
      "outputs": [
        {
          "output_type": "execute_result",
          "data": {
            "text/plain": [
              "1    908\n",
              "0    281\n",
              "Name: sex, dtype: int64"
            ]
          },
          "metadata": {},
          "execution_count": 111
        }
      ]
    },
    {
      "cell_type": "code",
      "metadata": {
        "id": "2a862a45",
        "colab": {
          "base_uri": "https://localhost:8080/",
          "height": 142
        },
        "outputId": "56f77f03-d9e3-4798-b906-995383ffd218"
      },
      "source": [
        "Sex_Compare=pd.crosstab(dp.target,dp.sex)\n",
        "Sex_Compare"
      ],
      "id": "2a862a45",
      "execution_count": 112,
      "outputs": [
        {
          "output_type": "execute_result",
          "data": {
            "text/html": [
              "<div>\n",
              "<style scoped>\n",
              "    .dataframe tbody tr th:only-of-type {\n",
              "        vertical-align: middle;\n",
              "    }\n",
              "\n",
              "    .dataframe tbody tr th {\n",
              "        vertical-align: top;\n",
              "    }\n",
              "\n",
              "    .dataframe thead th {\n",
              "        text-align: right;\n",
              "    }\n",
              "</style>\n",
              "<table border=\"1\" class=\"dataframe\">\n",
              "  <thead>\n",
              "    <tr style=\"text-align: right;\">\n",
              "      <th>sex</th>\n",
              "      <th>0</th>\n",
              "      <th>1</th>\n",
              "    </tr>\n",
              "    <tr>\n",
              "      <th>target</th>\n",
              "      <th></th>\n",
              "      <th></th>\n",
              "    </tr>\n",
              "  </thead>\n",
              "  <tbody>\n",
              "    <tr>\n",
              "      <th>0</th>\n",
              "      <td>211</td>\n",
              "      <td>350</td>\n",
              "    </tr>\n",
              "    <tr>\n",
              "      <th>1</th>\n",
              "      <td>70</td>\n",
              "      <td>558</td>\n",
              "    </tr>\n",
              "  </tbody>\n",
              "</table>\n",
              "</div>"
            ],
            "text/plain": [
              "sex       0    1\n",
              "target          \n",
              "0       211  350\n",
              "1        70  558"
            ]
          },
          "metadata": {},
          "execution_count": 112
        }
      ]
    },
    {
      "cell_type": "code",
      "metadata": {
        "id": "236d0a67",
        "colab": {
          "base_uri": "https://localhost:8080/",
          "height": 404
        },
        "outputId": "697e67ce-bb4f-4c7d-bf1b-daf3ec1beece"
      },
      "source": [
        "Sex_Compare.plot(kind='bar',figsize=(10,6));\n",
        "plt.title('Heart_Disease_Frequency')\n",
        "plt.xlabel('0 = No disease, 1 = Disease')\n",
        "plt.ylabel('Number of people')\n",
        "plt.legend(['Female','Male'])\n",
        "plt.xticks(rotation=0);"
      ],
      "id": "236d0a67",
      "execution_count": 113,
      "outputs": [
        {
          "output_type": "display_data",
          "data": {
            "image/png": "[encoded data removed]",
            "text/plain": [
              "<Figure size 720x432 with 1 Axes>"
            ]
          },
          "metadata": {
            "needs_background": "light"
          }
        }
      ]
    },
    {
      "cell_type": "code",
      "metadata": {
        "id": "6f18d8f4",
        "colab": {
          "base_uri": "https://localhost:8080/"
        },
        "outputId": "f91a5c90-ad53-447f-e7f0-a24878dc11bb"
      },
      "source": [
        "dp.max_heart_rate_achieved.value_counts()"
      ],
      "id": "6f18d8f4",
      "execution_count": 114,
      "outputs": [
        {
          "output_type": "execute_result",
          "data": {
            "text/plain": [
              "150    49\n",
              "140    46\n",
              "120    39\n",
              "130    36\n",
              "160    35\n",
              "       ..\n",
              "91      1\n",
              "83      1\n",
              "87      1\n",
              "107     1\n",
              "60      1\n",
              "Name: max_heart_rate_achieved, Length: 119, dtype: int64"
            ]
          },
          "metadata": {},
          "execution_count": 114
        }
      ]
    },
    {
      "cell_type": "code",
      "metadata": {
        "id": "fe4907f8"
      },
      "source": [
        "Heart_Rate_Target=dp.max_heart_rate_achieved[dp.target==1]"
      ],
      "id": "fe4907f8",
      "execution_count": 115,
      "outputs": []
    },
    {
      "cell_type": "code",
      "metadata": {
        "id": "6e7a23d8"
      },
      "source": [
        "Age_Target=dp.age[dp.target==1]"
      ],
      "id": "6e7a23d8",
      "execution_count": 116,
      "outputs": []
    },
    {
      "cell_type": "code",
      "metadata": {
        "id": "ef0f9fe8",
        "colab": {
          "base_uri": "https://localhost:8080/",
          "height": 404
        },
        "outputId": "3d612a05-9087-450d-e90a-e9d5a8c5dfd7"
      },
      "source": [
        "plt.figure(figsize=(10,6))\n",
        "plt.scatter(Age_Target,Heart_Rate_Target,c='lightblue')\n",
        "plt.scatter(dp.age[dp.target==0],dp.max_heart_rate_achieved[dp.target==0],c='salmon')\n",
        "plt.title('Heart_Diseae_with_Age_and_max_heart_rate')\n",
        "plt.xlabel('Age')\n",
        "plt.ylabel('Max_Heart_Rate');\n",
        "plt.legend(['Disease', 'No Disease']);\n"
      ],
      "id": "ef0f9fe8",
      "execution_count": 117,
      "outputs": [
        {
          "output_type": "display_data",
          "data": {
            "image/png": "[encoded data removed]",
            "text/plain": [
              "<Figure size 720x432 with 1 Axes>"
            ]
          },
          "metadata": {
            "needs_background": "light"
          }
        }
      ]
    },
    {
      "cell_type": "code",
      "metadata": {
        "id": "55665409",
        "colab": {
          "base_uri": "https://localhost:8080/",
          "height": 374
        },
        "outputId": "9308bc2a-7795-4ee5-d6a8-9ea03f164df4"
      },
      "source": [
        "plt.figure(figsize=(10,6))\n",
        "dp.age.plot.hist();"
      ],
      "id": "55665409",
      "execution_count": 118,
      "outputs": [
        {
          "output_type": "display_data",
          "data": {
            "image/png": "[encoded data removed]",
            "text/plain": [
              "<Figure size 720x432 with 1 Axes>"
            ]
          },
          "metadata": {
            "needs_background": "light"
          }
        }
      ]
    },
    {
      "cell_type": "code",
      "metadata": {
        "id": "a7797fe3",
        "colab": {
          "base_uri": "https://localhost:8080/",
          "height": 204
        },
        "outputId": "32ba250f-85ef-4ec5-ad1c-46eb31a27f8c"
      },
      "source": [
        "pd.crosstab(dp.chest_pain_type,dp.target)"
      ],
      "id": "a7797fe3",
      "execution_count": 119,
      "outputs": [
        {
          "output_type": "execute_result",
          "data": {
            "text/html": [
              "<div>\n",
              "<style scoped>\n",
              "    .dataframe tbody tr th:only-of-type {\n",
              "        vertical-align: middle;\n",
              "    }\n",
              "\n",
              "    .dataframe tbody tr th {\n",
              "        vertical-align: top;\n",
              "    }\n",
              "\n",
              "    .dataframe thead th {\n",
              "        text-align: right;\n",
              "    }\n",
              "</style>\n",
              "<table border=\"1\" class=\"dataframe\">\n",
              "  <thead>\n",
              "    <tr style=\"text-align: right;\">\n",
              "      <th>target</th>\n",
              "      <th>0</th>\n",
              "      <th>1</th>\n",
              "    </tr>\n",
              "    <tr>\n",
              "      <th>chest_pain_type</th>\n",
              "      <th></th>\n",
              "      <th></th>\n",
              "    </tr>\n",
              "  </thead>\n",
              "  <tbody>\n",
              "    <tr>\n",
              "      <th>1</th>\n",
              "      <td>41</td>\n",
              "      <td>25</td>\n",
              "    </tr>\n",
              "    <tr>\n",
              "      <th>2</th>\n",
              "      <td>185</td>\n",
              "      <td>31</td>\n",
              "    </tr>\n",
              "    <tr>\n",
              "      <th>3</th>\n",
              "      <td>193</td>\n",
              "      <td>89</td>\n",
              "    </tr>\n",
              "    <tr>\n",
              "      <th>4</th>\n",
              "      <td>142</td>\n",
              "      <td>483</td>\n",
              "    </tr>\n",
              "  </tbody>\n",
              "</table>\n",
              "</div>"
            ],
            "text/plain": [
              "target             0    1\n",
              "chest_pain_type          \n",
              "1                 41   25\n",
              "2                185   31\n",
              "3                193   89\n",
              "4                142  483"
            ]
          },
          "metadata": {},
          "execution_count": 119
        }
      ]
    },
    {
      "cell_type": "code",
      "metadata": {
        "id": "755c2065",
        "colab": {
          "base_uri": "https://localhost:8080/",
          "height": 404
        },
        "outputId": "4d4b0af5-899f-4f47-bdbb-5ef6d4c2acc6"
      },
      "source": [
        "plt.figure(figsize=(10,6))\n",
        "plt.scatter(dp.age[dp.target==1],dp.chest_pain_type[dp.target==1],c='lightblue')\n",
        "plt.scatter(dp.age[dp.target==0],dp.chest_pain_type[dp.target==0],c='salmon')\n",
        "plt.title('Heart_Diseae_with_Age_and_max_heart_rate')\n",
        "plt.xlabel('Age')\n",
        "plt.ylabel('chest_pain_type');\n",
        "plt.legend(['Disease', 'No Disease']);"
      ],
      "id": "755c2065",
      "execution_count": 120,
      "outputs": [
        {
          "output_type": "display_data",
          "data": {
            "image/png": "[encoded data removed]",
            "text/plain": [
              "<Figure size 720x432 with 1 Axes>"
            ]
          },
          "metadata": {
            "needs_background": "light"
          }
        }
      ]
    },
    {
      "cell_type": "code",
      "metadata": {
        "id": "070953cf",
        "colab": {
          "base_uri": "https://localhost:8080/",
          "height": 401
        },
        "outputId": "7ecea66a-db5f-4bdc-aa5c-fe1d1ec8e2bf"
      },
      "source": [
        "pd.crosstab(dp.chest_pain_type,dp.target).plot(kind='bar',figsize=(10,6));\n",
        "plt.legend(['No disease', 'Disease'])\n",
        "plt.ylabel('No. of person')\n",
        "plt.title('Heart_Disease_with_Chest_Pain_Type');"
      ],
      "id": "070953cf",
      "execution_count": 121,
      "outputs": [
        {
          "output_type": "display_data",
          "data": {
            "image/png": "[encoded data removed]",
            "text/plain": [
              "<Figure size 720x432 with 1 Axes>"
            ]
          },
          "metadata": {
            "needs_background": "light"
          }
        }
      ]
    },
    {
      "cell_type": "markdown",
      "metadata": {
        "id": "qPPZEWOtM_jy"
      },
      "source": [
        "# **7.Testing and Training data**"
      ],
      "id": "qPPZEWOtM_jy"
    },
    {
      "cell_type": "code",
      "metadata": {
        "id": "21622add"
      },
      "source": [
        "np.random.seed(42)\n",
        "X_train,X_test,Y_train,Y_test= train_test_split(X,y,test_size=0.1)"
      ],
      "id": "21622add",
      "execution_count": 122,
      "outputs": []
    },
    {
      "cell_type": "code",
      "metadata": {
        "id": "10572d49",
        "colab": {
          "base_uri": "https://localhost:8080/",
          "height": 439
        },
        "outputId": "62aeb3ea-6251-4153-96c1-27348ccd76f2"
      },
      "source": [
        "X_train"
      ],
      "id": "10572d49",
      "execution_count": 123,
      "outputs": [
        {
          "output_type": "execute_result",
          "data": {
            "text/html": [
              "<div>\n",
              "<style scoped>\n",
              "    .dataframe tbody tr th:only-of-type {\n",
              "        vertical-align: middle;\n",
              "    }\n",
              "\n",
              "    .dataframe tbody tr th {\n",
              "        vertical-align: top;\n",
              "    }\n",
              "\n",
              "    .dataframe thead th {\n",
              "        text-align: right;\n",
              "    }\n",
              "</style>\n",
              "<table border=\"1\" class=\"dataframe\">\n",
              "  <thead>\n",
              "    <tr style=\"text-align: right;\">\n",
              "      <th></th>\n",
              "      <th>age</th>\n",
              "      <th>sex</th>\n",
              "      <th>chest_pain_type</th>\n",
              "      <th>resting_blood_pressure</th>\n",
              "      <th>cholesterol</th>\n",
              "      <th>fasting_blood_sugar</th>\n",
              "      <th>rest_ecg</th>\n",
              "      <th>max_heart_rate_achieved</th>\n",
              "      <th>exercise_induced_angina</th>\n",
              "      <th>old_peak</th>\n",
              "      <th>st_slope</th>\n",
              "    </tr>\n",
              "  </thead>\n",
              "  <tbody>\n",
              "    <tr>\n",
              "      <th>231</th>\n",
              "      <td>37</td>\n",
              "      <td>1</td>\n",
              "      <td>4</td>\n",
              "      <td>130</td>\n",
              "      <td>315</td>\n",
              "      <td>0</td>\n",
              "      <td>0</td>\n",
              "      <td>158</td>\n",
              "      <td>0</td>\n",
              "      <td>0.0</td>\n",
              "      <td>1</td>\n",
              "    </tr>\n",
              "    <tr>\n",
              "      <th>451</th>\n",
              "      <td>52</td>\n",
              "      <td>1</td>\n",
              "      <td>3</td>\n",
              "      <td>122</td>\n",
              "      <td>0</td>\n",
              "      <td>0</td>\n",
              "      <td>0</td>\n",
              "      <td>110</td>\n",
              "      <td>1</td>\n",
              "      <td>2.0</td>\n",
              "      <td>3</td>\n",
              "    </tr>\n",
              "    <tr>\n",
              "      <th>210</th>\n",
              "      <td>54</td>\n",
              "      <td>1</td>\n",
              "      <td>4</td>\n",
              "      <td>125</td>\n",
              "      <td>216</td>\n",
              "      <td>0</td>\n",
              "      <td>0</td>\n",
              "      <td>140</td>\n",
              "      <td>0</td>\n",
              "      <td>0.0</td>\n",
              "      <td>2</td>\n",
              "    </tr>\n",
              "    <tr>\n",
              "      <th>140</th>\n",
              "      <td>52</td>\n",
              "      <td>1</td>\n",
              "      <td>4</td>\n",
              "      <td>160</td>\n",
              "      <td>331</td>\n",
              "      <td>0</td>\n",
              "      <td>0</td>\n",
              "      <td>94</td>\n",
              "      <td>1</td>\n",
              "      <td>2.5</td>\n",
              "      <td>2</td>\n",
              "    </tr>\n",
              "    <tr>\n",
              "      <th>394</th>\n",
              "      <td>38</td>\n",
              "      <td>1</td>\n",
              "      <td>4</td>\n",
              "      <td>150</td>\n",
              "      <td>0</td>\n",
              "      <td>1</td>\n",
              "      <td>0</td>\n",
              "      <td>120</td>\n",
              "      <td>1</td>\n",
              "      <td>0.7</td>\n",
              "      <td>2</td>\n",
              "    </tr>\n",
              "    <tr>\n",
              "      <th>...</th>\n",
              "      <td>...</td>\n",
              "      <td>...</td>\n",
              "      <td>...</td>\n",
              "      <td>...</td>\n",
              "      <td>...</td>\n",
              "      <td>...</td>\n",
              "      <td>...</td>\n",
              "      <td>...</td>\n",
              "      <td>...</td>\n",
              "      <td>...</td>\n",
              "      <td>...</td>\n",
              "    </tr>\n",
              "    <tr>\n",
              "      <th>1045</th>\n",
              "      <td>60</td>\n",
              "      <td>1</td>\n",
              "      <td>4</td>\n",
              "      <td>140</td>\n",
              "      <td>293</td>\n",
              "      <td>0</td>\n",
              "      <td>2</td>\n",
              "      <td>170</td>\n",
              "      <td>0</td>\n",
              "      <td>1.2</td>\n",
              "      <td>2</td>\n",
              "    </tr>\n",
              "    <tr>\n",
              "      <th>1096</th>\n",
              "      <td>62</td>\n",
              "      <td>0</td>\n",
              "      <td>4</td>\n",
              "      <td>150</td>\n",
              "      <td>244</td>\n",
              "      <td>0</td>\n",
              "      <td>0</td>\n",
              "      <td>154</td>\n",
              "      <td>1</td>\n",
              "      <td>1.4</td>\n",
              "      <td>2</td>\n",
              "    </tr>\n",
              "    <tr>\n",
              "      <th>1131</th>\n",
              "      <td>60</td>\n",
              "      <td>0</td>\n",
              "      <td>3</td>\n",
              "      <td>120</td>\n",
              "      <td>178</td>\n",
              "      <td>1</td>\n",
              "      <td>0</td>\n",
              "      <td>96</td>\n",
              "      <td>0</td>\n",
              "      <td>0.0</td>\n",
              "      <td>1</td>\n",
              "    </tr>\n",
              "    <tr>\n",
              "      <th>861</th>\n",
              "      <td>51</td>\n",
              "      <td>0</td>\n",
              "      <td>3</td>\n",
              "      <td>140</td>\n",
              "      <td>308</td>\n",
              "      <td>0</td>\n",
              "      <td>2</td>\n",
              "      <td>142</td>\n",
              "      <td>0</td>\n",
              "      <td>1.5</td>\n",
              "      <td>1</td>\n",
              "    </tr>\n",
              "    <tr>\n",
              "      <th>1127</th>\n",
              "      <td>41</td>\n",
              "      <td>1</td>\n",
              "      <td>2</td>\n",
              "      <td>110</td>\n",
              "      <td>235</td>\n",
              "      <td>0</td>\n",
              "      <td>0</td>\n",
              "      <td>153</td>\n",
              "      <td>0</td>\n",
              "      <td>0.0</td>\n",
              "      <td>1</td>\n",
              "    </tr>\n",
              "  </tbody>\n",
              "</table>\n",
              "<p>1070 rows × 11 columns</p>\n",
              "</div>"
            ],
            "text/plain": [
              "      age  sex  chest_pain_type  ...  exercise_induced_angina  old_peak  st_slope\n",
              "231    37    1                4  ...                        0       0.0         1\n",
              "451    52    1                3  ...                        1       2.0         3\n",
              "210    54    1                4  ...                        0       0.0         2\n",
              "140    52    1                4  ...                        1       2.5         2\n",
              "394    38    1                4  ...                        1       0.7         2\n",
              "...   ...  ...              ...  ...                      ...       ...       ...\n",
              "1045   60    1                4  ...                        0       1.2         2\n",
              "1096   62    0                4  ...                        1       1.4         2\n",
              "1131   60    0                3  ...                        0       0.0         1\n",
              "861    51    0                3  ...                        0       1.5         1\n",
              "1127   41    1                2  ...                        0       0.0         1\n",
              "\n",
              "[1070 rows x 11 columns]"
            ]
          },
          "metadata": {},
          "execution_count": 123
        }
      ]
    },
    {
      "cell_type": "code",
      "metadata": {
        "id": "32b89bd0",
        "colab": {
          "base_uri": "https://localhost:8080/",
          "height": 439
        },
        "outputId": "5a0ea792-be28-4439-ecc9-71f2362d2bc6"
      },
      "source": [
        "X_test"
      ],
      "id": "32b89bd0",
      "execution_count": 124,
      "outputs": [
        {
          "output_type": "execute_result",
          "data": {
            "text/html": [
              "<div>\n",
              "<style scoped>\n",
              "    .dataframe tbody tr th:only-of-type {\n",
              "        vertical-align: middle;\n",
              "    }\n",
              "\n",
              "    .dataframe tbody tr th {\n",
              "        vertical-align: top;\n",
              "    }\n",
              "\n",
              "    .dataframe thead th {\n",
              "        text-align: right;\n",
              "    }\n",
              "</style>\n",
              "<table border=\"1\" class=\"dataframe\">\n",
              "  <thead>\n",
              "    <tr style=\"text-align: right;\">\n",
              "      <th></th>\n",
              "      <th>age</th>\n",
              "      <th>sex</th>\n",
              "      <th>chest_pain_type</th>\n",
              "      <th>resting_blood_pressure</th>\n",
              "      <th>cholesterol</th>\n",
              "      <th>fasting_blood_sugar</th>\n",
              "      <th>rest_ecg</th>\n",
              "      <th>max_heart_rate_achieved</th>\n",
              "      <th>exercise_induced_angina</th>\n",
              "      <th>old_peak</th>\n",
              "      <th>st_slope</th>\n",
              "    </tr>\n",
              "  </thead>\n",
              "  <tbody>\n",
              "    <tr>\n",
              "      <th>319</th>\n",
              "      <td>61</td>\n",
              "      <td>1</td>\n",
              "      <td>4</td>\n",
              "      <td>130</td>\n",
              "      <td>0</td>\n",
              "      <td>1</td>\n",
              "      <td>0</td>\n",
              "      <td>77</td>\n",
              "      <td>0</td>\n",
              "      <td>2.5</td>\n",
              "      <td>2</td>\n",
              "    </tr>\n",
              "    <tr>\n",
              "      <th>1158</th>\n",
              "      <td>66</td>\n",
              "      <td>1</td>\n",
              "      <td>4</td>\n",
              "      <td>160</td>\n",
              "      <td>228</td>\n",
              "      <td>0</td>\n",
              "      <td>2</td>\n",
              "      <td>138</td>\n",
              "      <td>0</td>\n",
              "      <td>2.3</td>\n",
              "      <td>1</td>\n",
              "    </tr>\n",
              "    <tr>\n",
              "      <th>908</th>\n",
              "      <td>58</td>\n",
              "      <td>0</td>\n",
              "      <td>1</td>\n",
              "      <td>150</td>\n",
              "      <td>283</td>\n",
              "      <td>1</td>\n",
              "      <td>2</td>\n",
              "      <td>162</td>\n",
              "      <td>0</td>\n",
              "      <td>1.0</td>\n",
              "      <td>1</td>\n",
              "    </tr>\n",
              "    <tr>\n",
              "      <th>86</th>\n",
              "      <td>65</td>\n",
              "      <td>1</td>\n",
              "      <td>4</td>\n",
              "      <td>170</td>\n",
              "      <td>263</td>\n",
              "      <td>1</td>\n",
              "      <td>0</td>\n",
              "      <td>112</td>\n",
              "      <td>1</td>\n",
              "      <td>2.0</td>\n",
              "      <td>2</td>\n",
              "    </tr>\n",
              "    <tr>\n",
              "      <th>937</th>\n",
              "      <td>41</td>\n",
              "      <td>0</td>\n",
              "      <td>2</td>\n",
              "      <td>105</td>\n",
              "      <td>198</td>\n",
              "      <td>0</td>\n",
              "      <td>0</td>\n",
              "      <td>168</td>\n",
              "      <td>0</td>\n",
              "      <td>0.0</td>\n",
              "      <td>1</td>\n",
              "    </tr>\n",
              "    <tr>\n",
              "      <th>...</th>\n",
              "      <td>...</td>\n",
              "      <td>...</td>\n",
              "      <td>...</td>\n",
              "      <td>...</td>\n",
              "      <td>...</td>\n",
              "      <td>...</td>\n",
              "      <td>...</td>\n",
              "      <td>...</td>\n",
              "      <td>...</td>\n",
              "      <td>...</td>\n",
              "      <td>...</td>\n",
              "    </tr>\n",
              "    <tr>\n",
              "      <th>332</th>\n",
              "      <td>56</td>\n",
              "      <td>1</td>\n",
              "      <td>4</td>\n",
              "      <td>115</td>\n",
              "      <td>0</td>\n",
              "      <td>1</td>\n",
              "      <td>1</td>\n",
              "      <td>82</td>\n",
              "      <td>0</td>\n",
              "      <td>-1.0</td>\n",
              "      <td>1</td>\n",
              "    </tr>\n",
              "    <tr>\n",
              "      <th>51</th>\n",
              "      <td>47</td>\n",
              "      <td>0</td>\n",
              "      <td>4</td>\n",
              "      <td>120</td>\n",
              "      <td>205</td>\n",
              "      <td>0</td>\n",
              "      <td>0</td>\n",
              "      <td>98</td>\n",
              "      <td>1</td>\n",
              "      <td>2.0</td>\n",
              "      <td>2</td>\n",
              "    </tr>\n",
              "    <tr>\n",
              "      <th>1181</th>\n",
              "      <td>63</td>\n",
              "      <td>0</td>\n",
              "      <td>4</td>\n",
              "      <td>124</td>\n",
              "      <td>197</td>\n",
              "      <td>0</td>\n",
              "      <td>0</td>\n",
              "      <td>136</td>\n",
              "      <td>1</td>\n",
              "      <td>0.0</td>\n",
              "      <td>2</td>\n",
              "    </tr>\n",
              "    <tr>\n",
              "      <th>1121</th>\n",
              "      <td>54</td>\n",
              "      <td>0</td>\n",
              "      <td>3</td>\n",
              "      <td>160</td>\n",
              "      <td>201</td>\n",
              "      <td>0</td>\n",
              "      <td>0</td>\n",
              "      <td>163</td>\n",
              "      <td>0</td>\n",
              "      <td>0.0</td>\n",
              "      <td>1</td>\n",
              "    </tr>\n",
              "    <tr>\n",
              "      <th>728</th>\n",
              "      <td>41</td>\n",
              "      <td>1</td>\n",
              "      <td>2</td>\n",
              "      <td>110</td>\n",
              "      <td>235</td>\n",
              "      <td>0</td>\n",
              "      <td>0</td>\n",
              "      <td>153</td>\n",
              "      <td>0</td>\n",
              "      <td>0.0</td>\n",
              "      <td>1</td>\n",
              "    </tr>\n",
              "  </tbody>\n",
              "</table>\n",
              "<p>119 rows × 11 columns</p>\n",
              "</div>"
            ],
            "text/plain": [
              "      age  sex  chest_pain_type  ...  exercise_induced_angina  old_peak  st_slope\n",
              "319    61    1                4  ...                        0       2.5         2\n",
              "1158   66    1                4  ...                        0       2.3         1\n",
              "908    58    0                1  ...                        0       1.0         1\n",
              "86     65    1                4  ...                        1       2.0         2\n",
              "937    41    0                2  ...                        0       0.0         1\n",
              "...   ...  ...              ...  ...                      ...       ...       ...\n",
              "332    56    1                4  ...                        0      -1.0         1\n",
              "51     47    0                4  ...                        1       2.0         2\n",
              "1181   63    0                4  ...                        1       0.0         2\n",
              "1121   54    0                3  ...                        0       0.0         1\n",
              "728    41    1                2  ...                        0       0.0         1\n",
              "\n",
              "[119 rows x 11 columns]"
            ]
          },
          "metadata": {},
          "execution_count": 124
        }
      ]
    },
    {
      "cell_type": "code",
      "metadata": {
        "id": "a2c5e930",
        "colab": {
          "base_uri": "https://localhost:8080/"
        },
        "outputId": "d728e81f-81fa-4dee-ed57-c202eddc40c5"
      },
      "source": [
        "Y_train"
      ],
      "id": "a2c5e930",
      "execution_count": 125,
      "outputs": [
        {
          "output_type": "execute_result",
          "data": {
            "text/plain": [
              "231     0\n",
              "451     1\n",
              "210     1\n",
              "140     1\n",
              "394     1\n",
              "       ..\n",
              "1045    1\n",
              "1096    1\n",
              "1131    0\n",
              "861     0\n",
              "1127    0\n",
              "Name: target, Length: 1070, dtype: int64"
            ]
          },
          "metadata": {},
          "execution_count": 125
        }
      ]
    },
    {
      "cell_type": "code",
      "metadata": {
        "id": "fc6ffd92",
        "colab": {
          "base_uri": "https://localhost:8080/"
        },
        "outputId": "8cc9ede6-ba2f-4b89-a988-91353fa5e057"
      },
      "source": [
        "Y_test"
      ],
      "id": "fc6ffd92",
      "execution_count": 126,
      "outputs": [
        {
          "output_type": "execute_result",
          "data": {
            "text/plain": [
              "319     1\n",
              "1158    0\n",
              "908     0\n",
              "86      1\n",
              "937     0\n",
              "       ..\n",
              "332     1\n",
              "51      1\n",
              "1181    1\n",
              "1121    0\n",
              "728     0\n",
              "Name: target, Length: 119, dtype: int64"
            ]
          },
          "metadata": {},
          "execution_count": 126
        }
      ]
    },
    {
      "cell_type": "markdown",
      "metadata": {
        "id": "auOCfLGiQa2X"
      },
      "source": [
        "## **Testing the data:**"
      ],
      "id": "auOCfLGiQa2X"
    },
    {
      "cell_type": "markdown",
      "metadata": {
        "id": "4TjP53v0Nfoa"
      },
      "source": [
        "## **Logistic Regression Algorithm:**"
      ],
      "id": "4TjP53v0Nfoa"
    },
    {
      "cell_type": "code",
      "metadata": {
        "id": "g5Os5PWpT2aq",
        "colab": {
          "base_uri": "https://localhost:8080/"
        },
        "outputId": "a0dc004a-1c79-47d5-eae6-e2aba1692a47"
      },
      "source": [
        "from sklearn.linear_model import LogisticRegression\n",
        "\n",
        "lr = LogisticRegression()\n",
        "\n",
        "lr.fit(X_train,Y_train)\n",
        "\n",
        "Y_pred_lr = lr.predict(X_test)"
      ],
      "id": "g5Os5PWpT2aq",
      "execution_count": 127,
      "outputs": [
        {
          "output_type": "stream",
          "name": "stderr",
          "text": [
            "/usr/local/lib/python3.7/dist-packages/sklearn/linear_model/_logistic.py:940: ConvergenceWarning: lbfgs failed to converge (status=1):\n",
            "STOP: TOTAL NO. of ITERATIONS REACHED LIMIT.\n",
            "\n",
            "Increase the number of iterations (max_iter) or scale the data as shown in:\n",
            "    https://scikit-learn.org/stable/modules/preprocessing.html\n",
            "Please also refer to the documentation for alternative solver options:\n",
            "    https://scikit-learn.org/stable/modules/linear_model.html#logistic-regression\n",
            "  extra_warning_msg=_LOGISTIC_SOLVER_CONVERGENCE_MSG)\n"
          ]
        }
      ]
    },
    {
      "cell_type": "code",
      "metadata": {
        "id": "sN6B6hXwT2Ro",
        "colab": {
          "base_uri": "https://localhost:8080/"
        },
        "outputId": "a524ef8c-9933-4e9e-e08d-c03f95d7d71e"
      },
      "source": [
        "Y_pred_lr.shape"
      ],
      "id": "sN6B6hXwT2Ro",
      "execution_count": 128,
      "outputs": [
        {
          "output_type": "execute_result",
          "data": {
            "text/plain": [
              "(119,)"
            ]
          },
          "metadata": {},
          "execution_count": 128
        }
      ]
    },
    {
      "cell_type": "code",
      "metadata": {
        "id": "t4tq-ivWUn_H",
        "colab": {
          "base_uri": "https://localhost:8080/"
        },
        "outputId": "133e8352-a76a-4fee-b42c-70b1c0cf4c35"
      },
      "source": [
        "score_lr = round(accuracy_score(Y_pred_lr,Y_test)*100,2)\n",
        "\n",
        "print(\"The accuracy score achieved using Logistic Regression is: \"+str(score_lr)+\" %\")"
      ],
      "id": "t4tq-ivWUn_H",
      "execution_count": 129,
      "outputs": [
        {
          "output_type": "stream",
          "name": "stdout",
          "text": [
            "The accuracy score achieved using Logistic Regression is: 87.39 %\n"
          ]
        }
      ]
    },
    {
      "cell_type": "markdown",
      "metadata": {
        "id": "onBapWdlNn08"
      },
      "source": [
        "## **Gaussian Navie Bayes Algorithm:**"
      ],
      "id": "onBapWdlNn08"
    },
    {
      "cell_type": "code",
      "metadata": {
        "id": "diTFakAkYXM0"
      },
      "source": [
        "from sklearn.naive_bayes import GaussianNB\n",
        "\n",
        "nb = GaussianNB()\n",
        "\n",
        "nb.fit(X_train,Y_train)\n",
        "\n",
        "Y_pred_nb = nb.predict(X_test)"
      ],
      "id": "diTFakAkYXM0",
      "execution_count": 130,
      "outputs": []
    },
    {
      "cell_type": "code",
      "metadata": {
        "id": "XbrM_v_uYXKQ",
        "colab": {
          "base_uri": "https://localhost:8080/"
        },
        "outputId": "07d52142-b4a9-4369-d193-004305b8d09d"
      },
      "source": [
        "score_nb = round(accuracy_score(Y_pred_nb,Y_test)*100,2)\n",
        "\n",
        "print(\"The accuracy score achieved using Naive Bayes is: \"+str(score_nb)+\" %\")"
      ],
      "id": "XbrM_v_uYXKQ",
      "execution_count": 131,
      "outputs": [
        {
          "output_type": "stream",
          "name": "stdout",
          "text": [
            "The accuracy score achieved using Naive Bayes is: 86.55 %\n"
          ]
        }
      ]
    },
    {
      "cell_type": "markdown",
      "metadata": {
        "id": "qel1pq04NweU"
      },
      "source": [
        "## **Support Vector Machine Algorithm:**"
      ],
      "id": "qel1pq04NweU"
    },
    {
      "cell_type": "code",
      "metadata": {
        "id": "TUlatZJ4YXHn"
      },
      "source": [
        "\n",
        "from sklearn import svm\n",
        "\n",
        "sv = svm.SVC(kernel='linear')\n",
        "\n",
        "sv.fit(X_train, Y_train)\n",
        "\n",
        "Y_pred_svm = sv.predict(X_test)"
      ],
      "id": "TUlatZJ4YXHn",
      "execution_count": null,
      "outputs": []
    },
    {
      "cell_type": "code",
      "metadata": {
        "id": "LxMtKUnMYXEf"
      },
      "source": [
        "score_svm = round(accuracy_score(Y_pred_svm,Y_test)*100,2)\n",
        "\n",
        "print(\"The accuracy score achieved using Linear SVM is: \"+str(score_svm)+\" %\")"
      ],
      "id": "LxMtKUnMYXEf",
      "execution_count": null,
      "outputs": []
    },
    {
      "cell_type": "markdown",
      "metadata": {
        "id": "p6CKlwAjN4z_"
      },
      "source": [
        "## **K Neighbors Algorithm:**"
      ],
      "id": "p6CKlwAjN4z_"
    },
    {
      "cell_type": "code",
      "metadata": {
        "id": "1Jnwx0DzYW8L"
      },
      "source": [
        "from sklearn.neighbors import KNeighborsClassifier\n",
        "\n",
        "knn = KNeighborsClassifier(n_neighbors=7)\n",
        "knn.fit(X_train,Y_train)\n",
        "Y_pred_knn=knn.predict(X_test)"
      ],
      "id": "1Jnwx0DzYW8L",
      "execution_count": null,
      "outputs": []
    },
    {
      "cell_type": "code",
      "metadata": {
        "id": "lSLgS4bWYW5F"
      },
      "source": [
        "score_knn = round(accuracy_score(Y_pred_knn,Y_test)*100,2)\n",
        "\n",
        "print(\"The accuracy score achieved using KNN is: \"+str(score_knn)+\" %\")"
      ],
      "id": "lSLgS4bWYW5F",
      "execution_count": null,
      "outputs": []
    },
    {
      "cell_type": "markdown",
      "metadata": {
        "id": "wfe-qj2NOAz7"
      },
      "source": [
        "## **Decision Tree Algorithm:**"
      ],
      "id": "wfe-qj2NOAz7"
    },
    {
      "cell_type": "code",
      "metadata": {
        "id": "9RMv_wctYWwy"
      },
      "source": [
        "max_accuracy = 0\n",
        "\n",
        "\n",
        "for x in range(200):\n",
        "    dt = DecisionTreeClassifier(random_state=x)\n",
        "    dt.fit(X_train,Y_train)\n",
        "    Y_pred_dt = dt.predict(X_test)\n",
        "    current_accuracy = round(accuracy_score(Y_pred_dt,Y_test)*100,2)\n",
        "    if(current_accuracy>max_accuracy):\n",
        "        max_accuracy = current_accuracy\n",
        "        best_x = x\n",
        "        \n",
        "#print(max_accuracy)\n",
        "#print(best_x)\n",
        "\n",
        "\n",
        "dt = DecisionTreeClassifier(random_state=best_x)\n",
        "dt.fit(X_train,Y_train)\n",
        "Y_pred_dt = dt.predict(X_test)"
      ],
      "id": "9RMv_wctYWwy",
      "execution_count": null,
      "outputs": []
    },
    {
      "cell_type": "code",
      "metadata": {
        "id": "QxMDTUIGYyPJ"
      },
      "source": [
        "score_dt = round(accuracy_score(Y_pred_dt,Y_test)*100,2)\n",
        "\n",
        "print(\"The accuracy score achieved using Decision Tree is: \"+str(score_dt)+\" %\")"
      ],
      "id": "QxMDTUIGYyPJ",
      "execution_count": null,
      "outputs": []
    },
    {
      "cell_type": "markdown",
      "metadata": {
        "id": "aFzGgz8cOGBk"
      },
      "source": [
        "## **Random Forest Classifier Algorithm:**"
      ],
      "id": "aFzGgz8cOGBk"
    },
    {
      "cell_type": "code",
      "metadata": {
        "id": "xw8WEweoU1E4"
      },
      "source": [
        "from sklearn.ensemble import RandomForestClassifier\n",
        "\n",
        "max_accuracy = 0\n",
        "\n",
        "\n",
        "for x in range(100):\n",
        "    rf = RandomForestClassifier(random_state=x)\n",
        "    rf.fit(X_train,Y_train)\n",
        "    Y_pred_rf = rf.predict(X_test)\n",
        "    current_accuracy = round(accuracy_score(Y_pred_rf,Y_test)*100,2)\n",
        "    if(current_accuracy>max_accuracy):\n",
        "        max_accuracy = current_accuracy\n",
        "        best_x = x\n",
        "        \n",
        "#print(max_accuracy)\n",
        "#print(best_x)\n",
        "\n",
        "rf = RandomForestClassifier(random_state=best_x)\n",
        "rf.fit(X_train,Y_train)\n",
        "Y_pred_rf = rf.predict(X_test)"
      ],
      "id": "xw8WEweoU1E4",
      "execution_count": null,
      "outputs": []
    },
    {
      "cell_type": "code",
      "metadata": {
        "id": "_OwRamUOU08U"
      },
      "source": [
        "\n",
        "score_rf = round(accuracy_score(Y_pred_rf,Y_test)*100,2)\n",
        "\n",
        "print(\"The accuracy score achieved using Random Forest Classifier is: \"+str(score_rf)+\" %\")"
      ],
      "id": "_OwRamUOU08U",
      "execution_count": null,
      "outputs": []
    },
    {
      "cell_type": "markdown",
      "metadata": {
        "id": "UKuFIHJWOX2m"
      },
      "source": [
        "# **XG Boost Algorithm**"
      ],
      "id": "UKuFIHJWOX2m"
    },
    {
      "cell_type": "code",
      "metadata": {
        "id": "IyCHaN_bbZS1"
      },
      "source": [
        "import xgboost as xgb\n",
        "\n",
        "xgb_model = xgb.XGBClassifier(objective=\"binary:logistic\", random_state=42)\n",
        "xgb_model.fit(X_train, Y_train)\n",
        "\n",
        "Y_pred_xgb = xgb_model.predict(X_test)"
      ],
      "id": "IyCHaN_bbZS1",
      "execution_count": null,
      "outputs": []
    },
    {
      "cell_type": "code",
      "metadata": {
        "id": "rsVWoiT1bdEa"
      },
      "source": [
        "score_xgb = round(accuracy_score(Y_pred_xgb,Y_test)*100,2)\n",
        "\n",
        "print(\"The accuracy score achieved using XGBoost is: \"+str(score_xgb)+\" %\")"
      ],
      "id": "rsVWoiT1bdEa",
      "execution_count": null,
      "outputs": []
    },
    {
      "cell_type": "markdown",
      "metadata": {
        "id": "9z3lcxioP3vY"
      },
      "source": [
        "## **Results:**"
      ],
      "id": "9z3lcxioP3vY"
    },
    {
      "cell_type": "markdown",
      "metadata": {
        "id": "Gfkh71dWOfQQ"
      },
      "source": [
        "Comparing the accuracy results obtained:"
      ],
      "id": "Gfkh71dWOfQQ"
    },
    {
      "cell_type": "code",
      "metadata": {
        "id": "t05zYJcCZIiF"
      },
      "source": [
        "scores = [score_lr,score_nb,score_svm,score_knn,score_dt,score_rf,score_xgb]\n",
        "algorithms = [\"Logistic Regression\",\"Naive Bayes\",\"Support Vector\",\"K-Nearest Neighbors\",\"Decision Tree\",\"Random Forest\",\"XG Boost\"]    \n",
        "\n",
        "for i in range(len(algorithms)):\n",
        "    print(\"The accuracy score achieved using \"+algorithms[i]+\" is: \",scores[i],\"%\")"
      ],
      "id": "t05zYJcCZIiF",
      "execution_count": null,
      "outputs": []
    },
    {
      "cell_type": "markdown",
      "metadata": {
        "id": "yQMrPa_VOk6d"
      },
      "source": [
        "Plotting the obtained result:"
      ],
      "id": "yQMrPa_VOk6d"
    },
    {
      "cell_type": "code",
      "metadata": {
        "id": "bz9XDdRhZj1O"
      },
      "source": [
        "plt.figure(figsize=(12,6))\n",
        "sns.barplot(algorithms,scores)\n",
        "plt.xlabel(\"Algorithms\")\n",
        "plt.ylabel(\"Accuracy score\");\n"
      ],
      "id": "bz9XDdRhZj1O",
      "execution_count": null,
      "outputs": []
    },
    {
      "cell_type": "markdown",
      "metadata": {
        "id": "BM9wbCCfKPB8"
      },
      "source": [
        "**Conclusion:**\n",
        "  \n",
        "  So from the above graph comparison, we came to know that Random Forest Classifier gives the maximum accuracy."
      ],
      "id": "BM9wbCCfKPB8"
    },
    {
      "cell_type": "code",
      "metadata": {
        "id": "xTnUmo8rOsSC"
      },
      "source": [
        ""
      ],
      "id": "xTnUmo8rOsSC",
      "execution_count": null,
      "outputs": []
    }
  ]
}